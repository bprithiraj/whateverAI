{
 "cells": [
  {
   "cell_type": "code",
   "execution_count": 21,
   "metadata": {},
   "outputs": [],
   "source": [
    "import tkinter\n",
    "root=tkinter.Tk()\n",
    "import random"
   ]
  },
  {
   "cell_type": "code",
   "execution_count": 22,
   "metadata": {},
   "outputs": [],
   "source": [
    "cl=['Red','Blue','Green','Yellow','Orange','Brown']\n",
    "point=4\n",
    "tl=30"
   ]
  },
  {
   "cell_type": "code",
   "execution_count": 23,
   "metadata": {},
   "outputs": [],
   "source": [
    "def beggm(event):\n",
    "    if tl==30:\n",
    "        countd()\n",
    "        \n",
    "    nxtcl()"
   ]
  },
  {
   "cell_type": "code",
   "execution_count": 24,
   "metadata": {},
   "outputs": [],
   "source": [
    "def nxtcl():\n",
    "    global point\n",
    "    global tl\n",
    "    \n",
    "    if tl>0:\n",
    "        e.focus_set()\n",
    "        \n",
    "        if e.get().lower()==cl[1].lower():\n",
    "            point=point+2\n",
    "            tl=tl+10\n",
    "        else:\n",
    "            point=point-4\n",
    "            \n",
    "        e.delete(0,tkinter.END)\n",
    "        \n",
    "        random.shuffle(cl)\n",
    "        \n",
    "        label.config(fg=str(cl[1]), text=str(cl[0]))\n",
    "        pointLabel.config(text=\"Points: \"+str(point))\n",
    "        "
   ]
  },
  {
   "cell_type": "code",
   "execution_count": 25,
   "metadata": {},
   "outputs": [],
   "source": [
    "def countd():\n",
    "    global tl\n",
    "    \n",
    "    if tl>0:\n",
    "        tl=tl-1\n",
    "        \n",
    "        tLabel.config(text=\"Time left: \"+str(tl))\n",
    "        tLabel.after(500,countd)\n",
    "    else:\n",
    "        tlabel=tkinter.Label(text=\"OOPS! Time's up\",font=('Helvetica',60))\n",
    "        tlabel.pack()"
   ]
  },
  {
   "cell_type": "code",
   "execution_count": null,
   "metadata": {},
   "outputs": [],
   "source": [
    "root.title(\"Game\")\n",
    "root.geometry(\"750x400\")\n",
    "\n",
    "instructions=tkinter.Label(root, text=\"Type the colour of the shown word\", font=('Helvetica',18))\n",
    "instructions.pack()\n",
    "\n",
    "pointLabel=tkinter.Label(root, text=\"Press Enter to start\", font=('Helvetica',18))\n",
    "pointLabel.pack()\n",
    "\n",
    "tLabel=tkinter.Label(root, text=\"Time left: \"+str(tl), font=('Helvetica',18))\n",
    "tLabel.pack()\n",
    "\n",
    "label=tkinter.Label(root, font=('Helvetica',60))\n",
    "label.pack()\n",
    "\n",
    "e=tkinter.Entry(root)\n",
    "\n",
    "root.bind('<Return>',beggm)\n",
    "e.pack()\n",
    "\n",
    "e.focus_set()\n",
    "\n",
    "root.mainloop()"
   ]
  },
  {
   "cell_type": "code",
   "execution_count": null,
   "metadata": {},
   "outputs": [],
   "source": []
  },
  {
   "cell_type": "code",
   "execution_count": null,
   "metadata": {},
   "outputs": [],
   "source": []
  },
  {
   "cell_type": "code",
   "execution_count": null,
   "metadata": {},
   "outputs": [],
   "source": []
  },
  {
   "cell_type": "code",
   "execution_count": null,
   "metadata": {},
   "outputs": [],
   "source": []
  },
  {
   "cell_type": "code",
   "execution_count": null,
   "metadata": {},
   "outputs": [],
   "source": []
  },
  {
   "cell_type": "code",
   "execution_count": null,
   "metadata": {},
   "outputs": [],
   "source": []
  },
  {
   "cell_type": "code",
   "execution_count": null,
   "metadata": {},
   "outputs": [],
   "source": []
  },
  {
   "cell_type": "code",
   "execution_count": null,
   "metadata": {},
   "outputs": [],
   "source": []
  },
  {
   "cell_type": "code",
   "execution_count": null,
   "metadata": {},
   "outputs": [],
   "source": []
  }
 ],
 "metadata": {
  "kernelspec": {
   "display_name": "Python 3",
   "language": "python",
   "name": "python3"
  },
  "language_info": {
   "codemirror_mode": {
    "name": "ipython",
    "version": 3
   },
   "file_extension": ".py",
   "mimetype": "text/x-python",
   "name": "python",
   "nbconvert_exporter": "python",
   "pygments_lexer": "ipython3",
   "version": "3.8.5"
  }
 },
 "nbformat": 4,
 "nbformat_minor": 4
}
